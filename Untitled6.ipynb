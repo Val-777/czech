{
 "cells": [
  {
   "cell_type": "code",
   "execution_count": 75,
   "metadata": {},
   "outputs": [],
   "source": [
    "import os, django\n",
    "os.environ.setdefault(\"DJANGO_SETTINGS_MODULE\", \"czech.settings\")\n",
    "django.setup()\n",
    "\n",
    "from addwords.models import PersPronoun, Verb\n",
    "from django.shortcuts import get_object_or_404\n",
    "from addwords.utils import get_wikitext, dictify_template, normalize_czech_verb_flexion"
   ]
  },
  {
   "cell_type": "code",
   "execution_count": 76,
   "metadata": {},
   "outputs": [],
   "source": [
    "wk = get_wikitext('bydlet', 'cz')"
   ]
  },
  {
   "cell_type": "code",
   "execution_count": 77,
   "metadata": {},
   "outputs": [],
   "source": [
    "v = get_object_or_404(Verb, czech = 'bydlet')"
   ]
  },
  {
   "cell_type": "code",
   "execution_count": 78,
   "metadata": {},
   "outputs": [
    {
     "name": "stdout",
     "output_type": "stream",
     "text": [
      "Imperfect!\n"
     ]
    }
   ],
   "source": [
    "wk = get_wikitext('jít', 'cz')\n",
    "\n",
    "for section in wk.sections:\n",
    "    if 'čeština' in section.title:\n",
    "#         print(dir(section))\n",
    "#         print(section.contents)\n",
    "        for s in section.sections:\n",
    "            if 'sloveso' in s.title:\n",
    "                if 'nedokonavé' in section.contents:\n",
    "                    print('Imperfect!')\n",
    "                elif 'dokonavé' in section.contents:\n",
    "                    print('Perfect!')"
   ]
  },
  {
   "cell_type": "code",
   "execution_count": 85,
   "metadata": {},
   "outputs": [],
   "source": [
    "wk = get_wikitext('strávit', 'cz')\n",
    "\n",
    "output = {}\n",
    "for section in wk.sections:\n",
    "    if 'časování' in section.title:\n",
    "        for template in section.templates:\n",
    "            if 'Sloveso (cs)' in template.name:\n",
    "                output['cz'] = dictify_template(template)\n",
    "    if 'čeština' in section.title:\n",
    "        templates = []\n",
    "        for template in section.templates:\n",
    "            if 'Překlady' in template.name:\n",
    "                templates.append(dictify_template(template))\n",
    "        template = max(templates, key=(\n",
    "            lambda dic: len(dic.keys())))\n",
    "        de = template['de']\n",
    "        de_list = de[0].split(', ')[0].strip('{}').split('|')\n",
    "        output['german'] = de_list[2]"
   ]
  },
  {
   "cell_type": "code",
   "execution_count": 86,
   "metadata": {},
   "outputs": [
    {
     "data": {
      "text/plain": [
       "{'cz': {'mtraf': ['strávivši'],\n",
       "  'mtram': ['stráviv'],\n",
       "  'mtrap': ['strávivše'],\n",
       "  'pactf': ['strávily'],\n",
       "  'pactm': ['strávili'],\n",
       "  'pimp1': ['stravme'],\n",
       "  'pimp2': ['stravte'],\n",
       "  'ppasf': ['stráveny'],\n",
       "  'ppasm': ['stráveni'],\n",
       "  'ppre1': ['strávíš'],\n",
       "  'ppre2': ['strávíme'],\n",
       "  'ppre3': ['stráví'],\n",
       "  'ptra': ['skrýt'],\n",
       "  'sactf': ['strávila'],\n",
       "  'sactm': ['strávil'],\n",
       "  'sactn': ['strávilo'],\n",
       "  'simp2': ['strav'],\n",
       "  'spasf': ['strávena'],\n",
       "  'spasm': ['stráven'],\n",
       "  'spasn': ['stráveno'],\n",
       "  'spre1': ['strávím'],\n",
       "  'spre2': ['stráví'],\n",
       "  'spre3': ['strávíte']},\n",
       " 'german': 'verbringen'}"
      ]
     },
     "execution_count": 86,
     "metadata": {},
     "output_type": "execute_result"
    }
   ],
   "source": [
    "output"
   ]
  },
  {
   "cell_type": "code",
   "execution_count": 5,
   "metadata": {},
   "outputs": [
    {
     "name": "stdout",
     "output_type": "stream",
     "text": [
      "já, role: 0\n",
      "ty, role: 1\n",
      "on, role: 2\n",
      "ona, role: 2\n",
      "ono, role: 2\n",
      "my, role: 3\n",
      "vy, role: 4\n",
      "oni, role: 5\n"
     ]
    }
   ],
   "source": [
    "for pronoun in PersPronoun.objects.all():\n",
    "    print(\"{}, role: {}\".format(pronoun, pronoun.role))"
   ]
  },
  {
   "cell_type": "code",
   "execution_count": 14,
   "metadata": {},
   "outputs": [
    {
     "name": "stdout",
     "output_type": "stream",
     "text": [
      "já\n",
      "ich\n"
     ]
    }
   ],
   "source": [
    "for p in PersPronoun.objects.filter(role=0):\n",
    "    print(p.czech)\n",
    "    print(p.german)"
   ]
  },
  {
   "cell_type": "code",
   "execution_count": 9,
   "metadata": {
    "collapsed": true
   },
   "outputs": [],
   "source": [
    "wis = Verb.objects.get(german='wissen')"
   ]
  },
  {
   "cell_type": "code",
   "execution_count": 10,
   "metadata": {},
   "outputs": [
    {
     "data": {
      "text/plain": [
       "<Verb: vědět>"
      ]
     },
     "execution_count": 10,
     "metadata": {},
     "output_type": "execute_result"
    }
   ],
   "source": [
    "wis"
   ]
  },
  {
   "cell_type": "code",
   "execution_count": 13,
   "metadata": {},
   "outputs": [
    {
     "data": {
      "text/plain": [
       "['vím']"
      ]
     },
     "execution_count": 13,
     "metadata": {},
     "output_type": "execute_result"
    }
   ],
   "source": [
    "wis.cz[\"present\"]['0']"
   ]
  },
  {
   "cell_type": "code",
   "execution_count": 19,
   "metadata": {},
   "outputs": [
    {
     "data": {
      "text/plain": [
       "'weiß'"
      ]
     },
     "execution_count": 19,
     "metadata": {},
     "output_type": "execute_result"
    }
   ],
   "source": [
    "wis.de[\"present\"]['active']['indicative']['0']"
   ]
  },
  {
   "cell_type": "code",
   "execution_count": 20,
   "metadata": {},
   "outputs": [
    {
     "data": {
      "text/plain": [
       "<QuerySet [<PersPronoun: on>, <PersPronoun: ona>, <PersPronoun: ono>]>"
      ]
     },
     "execution_count": 20,
     "metadata": {},
     "output_type": "execute_result"
    }
   ],
   "source": [
    "PersPronoun.objects.filter(role=2)"
   ]
  },
  {
   "cell_type": "code",
   "execution_count": 24,
   "metadata": {},
   "outputs": [
    {
     "data": {
      "text/plain": [
       "'er,sie,es'"
      ]
     },
     "execution_count": 24,
     "metadata": {},
     "output_type": "execute_result"
    }
   ],
   "source": [
    "\",\".join([p.german for p in PersPronoun.objects.filter(role=2)])"
   ]
  },
  {
   "cell_type": "code",
   "execution_count": 25,
   "metadata": {},
   "outputs": [
    {
     "name": "stdout",
     "output_type": "stream",
     "text": [
      "thwas was string example....wow!!! thwas was really string\n"
     ]
    }
   ],
   "source": [
    "st = \"this is string example....wow!!! this is really string\"\n",
    "print(st.replace(\"is\", \"was\"))"
   ]
  }
 ],
 "metadata": {
  "kernelspec": {
   "display_name": "czech",
   "language": "python",
   "name": "czech"
  },
  "language_info": {
   "codemirror_mode": {
    "name": "ipython",
    "version": 3
   },
   "file_extension": ".py",
   "mimetype": "text/x-python",
   "name": "python",
   "nbconvert_exporter": "python",
   "pygments_lexer": "ipython3",
   "version": "3.6.3"
  }
 },
 "nbformat": 4,
 "nbformat_minor": 2
}
