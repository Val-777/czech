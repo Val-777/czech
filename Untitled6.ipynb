{
 "cells": [
  {
   "cell_type": "code",
   "execution_count": 75,
   "metadata": {},
   "outputs": [],
   "source": [
    "import os, django\n",
    "os.environ.setdefault(\"DJANGO_SETTINGS_MODULE\", \"czech.settings\")\n",
    "django.setup()\n",
    "\n",
    "from addwords.models import PersPronoun, Verb\n",
    "from django.shortcuts import get_object_or_404\n",
    "from addwords.utils import get_wikitext, dictify_template, normalize_czech_verb_flexion"
   ]
  },
  {
   "cell_type": "code",
   "execution_count": 76,
   "metadata": {},
   "outputs": [],
   "source": [
    "wk = get_wikitext('bydlet', 'cz')"
   ]
  },
  {
   "cell_type": "code",
   "execution_count": 77,
   "metadata": {},
   "outputs": [],
   "source": [
    "v = get_object_or_404(Verb, czech = 'bydlet')"
   ]
  },
  {
   "cell_type": "code",
   "execution_count": 78,
   "metadata": {},
   "outputs": [
    {
     "name": "stdout",
     "output_type": "stream",
     "text": [
      "Imperfect!\n"
     ]
    }
   ],
   "source": [
    "wk = get_wikitext('jít', 'cz')\n",
    "\n",
    "for section in wk.sections:\n",
    "    if 'čeština' in section.title:\n",
    "#         print(dir(section))\n",
    "#         print(section.contents)\n",
    "        for s in section.sections:\n",
    "            if 'sloveso' in s.title:\n",
    "                if 'nedokonavé' in section.contents:\n",
    "                    print('Imperfect!')\n",
    "                elif 'dokonavé' in section.contents:\n",
    "                    print('Perfect!')"
   ]
  },
  {
   "cell_type": "code",
   "execution_count": 81,
   "metadata": {},
   "outputs": [],
   "source": [
    "wk = get_wikitext('jít', 'cz')\n",
    "\n",
    "output = {}\n",
    "for section in wk.sections:\n",
    "    if 'časování' in section.title:\n",
    "        for template in section.templates:\n",
    "            if 'Sloveso (cs)' in template.name:\n",
    "                output['cz'] = dictify_template(template)\n",
    "    if 'čeština' in section.title:\n",
    "        templates = []\n",
    "        for template in section.templates:\n",
    "            if 'Překlady' in template.name:\n",
    "                templates.append(dictify_template(template))\n",
    "        template = max(templates, key=(\n",
    "            lambda dic: len(dic.keys())))\n",
    "        de = template['de']\n",
    "        de_list = de[0].split(', ')[0].strip('{}').split('|')\n",
    "        output['german'] = de_list[2]"
   ]
  },
  {
   "cell_type": "code",
   "execution_count": 82,
   "metadata": {},
   "outputs": [
    {
     "data": {
      "text/plain": [
       "{'cz': {'fut': ['zobrazit'],\n",
       "  'mtraf': ['šedši'],\n",
       "  'mtram': ['šed'],\n",
       "  'mtrap': ['šedše'],\n",
       "  'pactf': ['šly'],\n",
       "  'pactm': ['šli'],\n",
       "  'pfut1': ['půjdeme'],\n",
       "  'pfut2': ['půjdete'],\n",
       "  'pfut3': ['půjdou'],\n",
       "  'pimp1': ['pojďme', 'jděme'],\n",
       "  'pimp2': ['pojďte', 'jděte'],\n",
       "  'ppasf': ['jity'],\n",
       "  'ppasm': ['jiti'],\n",
       "  'ppre1': ['jdeme'],\n",
       "  'ppre2': ['jdete'],\n",
       "  'ppre3': ['jdou'],\n",
       "  'ptraf': ['jdouc'],\n",
       "  'ptram': ['jda'],\n",
       "  'ptrap': ['jdouce'],\n",
       "  'sactf': ['šla'],\n",
       "  'sactm': ['šel'],\n",
       "  'sactn': ['šlo'],\n",
       "  'sfut1': ['půjdu'],\n",
       "  'sfut2': ['půjdeš'],\n",
       "  'sfut3': ['půjde'],\n",
       "  'simp2': ['pojď', 'jdi'],\n",
       "  'spasf': ['jita'],\n",
       "  'spasm': ['jit'],\n",
       "  'spasn': ['jito'],\n",
       "  'spre1': ['jdu'],\n",
       "  'spre2': ['jdeš'],\n",
       "  'spre3': ['jde']},\n",
       " 'german': 'gehen'}"
      ]
     },
     "execution_count": 82,
     "metadata": {},
     "output_type": "execute_result"
    }
   ],
   "source": [
    "output"
   ]
  },
  {
   "cell_type": "code",
   "execution_count": 5,
   "metadata": {},
   "outputs": [
    {
     "name": "stdout",
     "output_type": "stream",
     "text": [
      "já, role: 0\n",
      "ty, role: 1\n",
      "on, role: 2\n",
      "ona, role: 2\n",
      "ono, role: 2\n",
      "my, role: 3\n",
      "vy, role: 4\n",
      "oni, role: 5\n"
     ]
    }
   ],
   "source": [
    "for pronoun in PersPronoun.objects.all():\n",
    "    print(\"{}, role: {}\".format(pronoun, pronoun.role))"
   ]
  },
  {
   "cell_type": "code",
   "execution_count": 14,
   "metadata": {},
   "outputs": [
    {
     "name": "stdout",
     "output_type": "stream",
     "text": [
      "já\n",
      "ich\n"
     ]
    }
   ],
   "source": [
    "for p in PersPronoun.objects.filter(role=0):\n",
    "    print(p.czech)\n",
    "    print(p.german)"
   ]
  },
  {
   "cell_type": "code",
   "execution_count": 9,
   "metadata": {
    "collapsed": true
   },
   "outputs": [],
   "source": [
    "wis = Verb.objects.get(german='wissen')"
   ]
  },
  {
   "cell_type": "code",
   "execution_count": 10,
   "metadata": {},
   "outputs": [
    {
     "data": {
      "text/plain": [
       "<Verb: vědět>"
      ]
     },
     "execution_count": 10,
     "metadata": {},
     "output_type": "execute_result"
    }
   ],
   "source": [
    "wis"
   ]
  },
  {
   "cell_type": "code",
   "execution_count": 13,
   "metadata": {},
   "outputs": [
    {
     "data": {
      "text/plain": [
       "['vím']"
      ]
     },
     "execution_count": 13,
     "metadata": {},
     "output_type": "execute_result"
    }
   ],
   "source": [
    "wis.cz[\"present\"]['0']"
   ]
  },
  {
   "cell_type": "code",
   "execution_count": 19,
   "metadata": {},
   "outputs": [
    {
     "data": {
      "text/plain": [
       "'weiß'"
      ]
     },
     "execution_count": 19,
     "metadata": {},
     "output_type": "execute_result"
    }
   ],
   "source": [
    "wis.de[\"present\"]['active']['indicative']['0']"
   ]
  },
  {
   "cell_type": "code",
   "execution_count": 20,
   "metadata": {},
   "outputs": [
    {
     "data": {
      "text/plain": [
       "<QuerySet [<PersPronoun: on>, <PersPronoun: ona>, <PersPronoun: ono>]>"
      ]
     },
     "execution_count": 20,
     "metadata": {},
     "output_type": "execute_result"
    }
   ],
   "source": [
    "PersPronoun.objects.filter(role=2)"
   ]
  },
  {
   "cell_type": "code",
   "execution_count": 24,
   "metadata": {},
   "outputs": [
    {
     "data": {
      "text/plain": [
       "'er,sie,es'"
      ]
     },
     "execution_count": 24,
     "metadata": {},
     "output_type": "execute_result"
    }
   ],
   "source": [
    "\",\".join([p.german for p in PersPronoun.objects.filter(role=2)])"
   ]
  },
  {
   "cell_type": "code",
   "execution_count": 25,
   "metadata": {},
   "outputs": [
    {
     "name": "stdout",
     "output_type": "stream",
     "text": [
      "thwas was string example....wow!!! thwas was really string\n"
     ]
    }
   ],
   "source": [
    "st = \"this is string example....wow!!! this is really string\"\n",
    "print(st.replace(\"is\", \"was\"))"
   ]
  }
 ],
 "metadata": {
  "kernelspec": {
   "display_name": "czech",
   "language": "python",
   "name": "czech"
  },
  "language_info": {
   "codemirror_mode": {
    "name": "ipython",
    "version": 3
   },
   "file_extension": ".py",
   "mimetype": "text/x-python",
   "name": "python",
   "nbconvert_exporter": "python",
   "pygments_lexer": "ipython3",
   "version": "3.6.3"
  }
 },
 "nbformat": 4,
 "nbformat_minor": 2
}
