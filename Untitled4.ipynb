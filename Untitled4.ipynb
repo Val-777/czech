{
 "cells": [
  {
   "cell_type": "code",
   "execution_count": 1,
   "metadata": {
    "collapsed": true
   },
   "outputs": [],
   "source": [
    "import os, django\n",
    "os.environ.setdefault(\"DJANGO_SETTINGS_MODULE\", \"czech.settings\")\n",
    "django.setup()"
   ]
  },
  {
   "cell_type": "code",
   "execution_count": 2,
   "metadata": {
    "collapsed": true
   },
   "outputs": [],
   "source": [
    "from urllib.request import urlopen\n",
    "import urllib\n",
    "import json"
   ]
  },
  {
   "cell_type": "code",
   "execution_count": 3,
   "metadata": {
    "collapsed": true
   },
   "outputs": [],
   "source": [
    "from addwords.utils import dictify_template\n",
    "import wikitextparser as wtp"
   ]
  },
  {
   "cell_type": "code",
   "execution_count": 4,
   "metadata": {
    "collapsed": true
   },
   "outputs": [],
   "source": [
    "def get_wikitext_extended(verb):\n",
    "    \"\"\"\n",
    "    Gets wikitext with expanded templates, used for getting Flexion:<Verb> for\n",
    "    German verbs\n",
    "    \"\"\"\n",
    "    word = urllib.parse.quote(verb)\n",
    "    QUERY = (\"https://de.wiktionary.org/w/api.php?\"\n",
    "             \"action=parse&\"\n",
    "             \"format=json&\"\n",
    "             \"page={}&\"\n",
    "             \"prop=wikitext&\"\n",
    "             \"utf8=1&\"\n",
    "             \"redirects&\"\n",
    "             \"formatversion=1\").format(verb)\n",
    "    with urlopen(QUERY) as url:\n",
    "        http_info = url.info()\n",
    "        raw_data = url.read().decode(http_info.get_content_charset())\n",
    "    project_info = json.loads(raw_data)\n",
    "    result = {'headers': http_info.items(), 'body': project_info}\n",
    "    wikitext = result['body']['parse']['wikitext']['*']\n",
    "    \n",
    "    wikitext = urllib.parse.quote(wikitext)\n",
    "    QUERY = (\"https://{}.wiktionary.org/w/api.php?\"\n",
    "         \"action=expandtemplates&\"\n",
    "         \"format=json&\"\n",
    "         \"utf8=1&\"\n",
    "         \"text={}&\"\n",
    "         \"prop=wikitext&\").format(language, wikitext)\n",
    "    with urlopen(QUERY) as url:\n",
    "        http_info = url.info()\n",
    "        raw_data = url.read().decode(http_info.get_content_charset())\n",
    "    project_info = json.loads(raw_data)\n",
    "    wk = project_info['expandtemplates']['wikitext']\n",
    "    return wk"
   ]
  },
  {
   "cell_type": "code",
   "execution_count": 5,
   "metadata": {},
   "outputs": [],
   "source": [
    "def get_flexion(word):\n",
    "    wk = wtp.parse(get_wikitext('Flexion:{}'.format(word), 'de'))\n",
    "\n",
    "    PRESENT = '[[Hilfe:Präsens|Präsens]]'\n",
    "    PRETERITUM = '[[Hilfe:Präteritum|Präteritum]]'\n",
    "    FUTUR1 = '[[Hilfe:Futur|Futur I]]'\n",
    "\n",
    "\n",
    "    output = {\n",
    "            \"present\": \n",
    "                  {\"active\":{\n",
    "                      \"indicative\":{\n",
    "                          \"0\":'',\n",
    "                          \"1\":'',\n",
    "                          \"2\":'',\n",
    "                          \"3\":'',\n",
    "                          \"4\":'',\n",
    "                          \"5\":''\n",
    "                      }\n",
    "                  }},\n",
    "            \"preterite\": \n",
    "                  {\"active\":{\n",
    "                      \"indicative\":{\n",
    "                          \"0\":'',\n",
    "                          \"1\":'',\n",
    "                          \"2\":'',\n",
    "                          \"3\":'',\n",
    "                          \"4\":'',\n",
    "                          \"5\":''\n",
    "                      }\n",
    "                  }},\n",
    "            \"futur1\": \n",
    "                  {\"active\":{\n",
    "                      \"indicative\":{\n",
    "                          \"0\":'',\n",
    "                          \"1\":'',\n",
    "                          \"2\":'',\n",
    "                          \"3\":'',\n",
    "                          \"4\":'',\n",
    "                          \"5\":''\n",
    "                      }\n",
    "                  }\n",
    "             }}\n",
    "\n",
    "    for section in wk.sections:\n",
    "        if 'Indikativ' in section.title:\n",
    "            for table in section.tables:\n",
    "                for i in range(len(table.data())):\n",
    "                    if PRESENT in table.data()[i][0]:\n",
    "                        for ind in range(len(table.data()[i+2])):\n",
    "                            if 'Indikativ' in table.data()[i+2][ind]:\n",
    "                                break\n",
    "                        for j in range(6):\n",
    "                            word = table.data()[i+3+j][ind].split(' ')[-1]\n",
    "                            output[\"present\"][\"active\"][\"indicative\"][str(j)] = word\n",
    "\n",
    "                    if PRETERITUM in table.data()[i][0]:\n",
    "                        for ind in range(len(table.data()[i+2])):\n",
    "                            if 'Indikativ' in table.data()[i+2][ind]:\n",
    "                                break\n",
    "                        for j in range(6):\n",
    "                            word = table.data()[i+3+j][ind].split(' ')[-1]\n",
    "                            output[\"preterite\"][\"active\"][\"indicative\"][str(j)] = word\n",
    "\n",
    "                    if FUTUR1 in table.data()[i][0]:\n",
    "                        for ind in range(len(table.data()[i+2])):\n",
    "                            if 'Indikativ' in table.data()[i+2][ind]:\n",
    "                                break\n",
    "                        for j in range(6):\n",
    "                            word = table.data()[i+3+j][ind].split(' ')\n",
    "                            word = word[-2] + ' ' + word[-1]\n",
    "                            output[\"futur1\"][\"active\"][\"indicative\"][str(j)] = word\n",
    "    return output"
   ]
  },
  {
   "cell_type": "code",
   "execution_count": 6,
   "metadata": {},
   "outputs": [
    {
     "ename": "NameError",
     "evalue": "name 'get_wikitext' is not defined",
     "output_type": "error",
     "traceback": [
      "\u001b[1;31m---------------------------------------------------------------------------\u001b[0m",
      "\u001b[1;31mNameError\u001b[0m                                 Traceback (most recent call last)",
      "\u001b[1;32m<ipython-input-6-9f5cb3f4a580>\u001b[0m in \u001b[0;36m<module>\u001b[1;34m()\u001b[0m\n\u001b[1;32m----> 1\u001b[1;33m \u001b[0moutput\u001b[0m \u001b[1;33m=\u001b[0m \u001b[0mget_flexion\u001b[0m\u001b[1;33m(\u001b[0m\u001b[1;34m'springen'\u001b[0m\u001b[1;33m)\u001b[0m\u001b[1;33m\u001b[0m\u001b[0m\n\u001b[0m\u001b[0;32m      2\u001b[0m \u001b[0mprint\u001b[0m\u001b[1;33m(\u001b[0m\u001b[0moutput\u001b[0m\u001b[1;33m)\u001b[0m\u001b[1;33m\u001b[0m\u001b[0m\n\u001b[0;32m      3\u001b[0m \u001b[1;31m# print('Präsens Aktiv Indikativ: {}'.format(output[\"present_active_indicative\"]))\u001b[0m\u001b[1;33m\u001b[0m\u001b[1;33m\u001b[0m\u001b[0m\n\u001b[0;32m      4\u001b[0m \u001b[1;31m# print('Präteritum Aktiv Indikativ: {}'.format(output[\"preteritum_active_indicative\"]))\u001b[0m\u001b[1;33m\u001b[0m\u001b[1;33m\u001b[0m\u001b[0m\n\u001b[0;32m      5\u001b[0m \u001b[1;31m# print('Futur I Aktiv Indikativ: {}'.format(output[\"futur1_active_indicative\"]))\u001b[0m\u001b[1;33m\u001b[0m\u001b[1;33m\u001b[0m\u001b[0m\n",
      "\u001b[1;32m<ipython-input-5-a2f02e171713>\u001b[0m in \u001b[0;36mget_flexion\u001b[1;34m(word)\u001b[0m\n\u001b[0;32m      1\u001b[0m \u001b[1;32mdef\u001b[0m \u001b[0mget_flexion\u001b[0m\u001b[1;33m(\u001b[0m\u001b[0mword\u001b[0m\u001b[1;33m)\u001b[0m\u001b[1;33m:\u001b[0m\u001b[1;33m\u001b[0m\u001b[0m\n\u001b[1;32m----> 2\u001b[1;33m     \u001b[0mwk\u001b[0m \u001b[1;33m=\u001b[0m \u001b[0mwtp\u001b[0m\u001b[1;33m.\u001b[0m\u001b[0mparse\u001b[0m\u001b[1;33m(\u001b[0m\u001b[0mget_wikitext\u001b[0m\u001b[1;33m(\u001b[0m\u001b[1;34m'Flexion:{}'\u001b[0m\u001b[1;33m.\u001b[0m\u001b[0mformat\u001b[0m\u001b[1;33m(\u001b[0m\u001b[0mword\u001b[0m\u001b[1;33m)\u001b[0m\u001b[1;33m,\u001b[0m \u001b[1;34m'de'\u001b[0m\u001b[1;33m)\u001b[0m\u001b[1;33m)\u001b[0m\u001b[1;33m\u001b[0m\u001b[0m\n\u001b[0m\u001b[0;32m      3\u001b[0m \u001b[1;33m\u001b[0m\u001b[0m\n\u001b[0;32m      4\u001b[0m     \u001b[0mPRESENT\u001b[0m \u001b[1;33m=\u001b[0m \u001b[1;34m'[[Hilfe:Präsens|Präsens]]'\u001b[0m\u001b[1;33m\u001b[0m\u001b[0m\n\u001b[0;32m      5\u001b[0m     \u001b[0mPRETERITUM\u001b[0m \u001b[1;33m=\u001b[0m \u001b[1;34m'[[Hilfe:Präteritum|Präteritum]]'\u001b[0m\u001b[1;33m\u001b[0m\u001b[0m\n",
      "\u001b[1;31mNameError\u001b[0m: name 'get_wikitext' is not defined"
     ]
    }
   ],
   "source": [
    "output = get_flexion('springen')\n",
    "print(output)\n",
    "# print('Präsens Aktiv Indikativ: {}'.format(output[\"present_active_indicative\"]))\n",
    "# print('Präteritum Aktiv Indikativ: {}'.format(output[\"preteritum_active_indicative\"]))\n",
    "# print('Futur I Aktiv Indikativ: {}'.format(output[\"futur1_active_indicative\"]))"
   ]
  },
  {
   "cell_type": "code",
   "execution_count": 8,
   "metadata": {
    "collapsed": true
   },
   "outputs": [],
   "source": [
    "from addwords.models import PersPronoun"
   ]
  },
  {
   "cell_type": "code",
   "execution_count": 9,
   "metadata": {
    "collapsed": true
   },
   "outputs": [],
   "source": [
    "from django.shortcuts import get_object_or_404"
   ]
  },
  {
   "cell_type": "code",
   "execution_count": 11,
   "metadata": {},
   "outputs": [],
   "source": [
    "p = PersPronoun.random(PersPronoun)"
   ]
  },
  {
   "cell_type": "code",
   "execution_count": 13,
   "metadata": {},
   "outputs": [
    {
     "data": {
      "text/plain": [
       "'s3'"
      ]
     },
     "execution_count": 13,
     "metadata": {},
     "output_type": "execute_result"
    }
   ],
   "source": [
    "p.role"
   ]
  },
  {
   "cell_type": "code",
   "execution_count": null,
   "metadata": {
    "collapsed": true
   },
   "outputs": [],
   "source": []
  }
 ],
 "metadata": {
  "kernelspec": {
   "display_name": "czech",
   "language": "python",
   "name": "czech"
  },
  "language_info": {
   "codemirror_mode": {
    "name": "ipython",
    "version": 3
   },
   "file_extension": ".py",
   "mimetype": "text/x-python",
   "name": "python",
   "nbconvert_exporter": "python",
   "pygments_lexer": "ipython3",
   "version": "3.6.3"
  }
 },
 "nbformat": 4,
 "nbformat_minor": 2
}
