{
 "cells": [
  {
   "cell_type": "code",
   "execution_count": 6,
   "metadata": {
    "collapsed": true
   },
   "outputs": [],
   "source": [
    "import os, django\n",
    "os.environ.setdefault(\"DJANGO_SETTINGS_MODULE\", \"czech.settings\")\n",
    "django.setup()"
   ]
  },
  {
   "cell_type": "code",
   "execution_count": 21,
   "metadata": {
    "collapsed": true
   },
   "outputs": [],
   "source": [
    "from addwords.utils import dictify_template, get_wikitext\n",
    "import json"
   ]
  },
  {
   "cell_type": "code",
   "execution_count": 34,
   "metadata": {},
   "outputs": [
    {
     "name": "stdout",
     "output_type": "stream",
     "text": [
      "{'spre1': ['bydlím'], 'ppre1': ['bydlíme'], 'spre2': ['bydlíš'], 'ppre2': ['bydlíte'], 'spre3': ['bydlí'], 'ppre3': ['bydlí', 'bydlejí'], 'pimp1': ['bydleme'], 'simp2': ['bydli'], 'pimp2': ['bydlete'], 'sactm': ['bydlel'], 'pactm': ['bydleli'], 'sactf': ['bydlela'], 'pactf': ['bydlely'], 'sactn': ['bydlelo'], 'spasm': ['bydlen'], 'ppasm': ['bydleni'], 'spasf': ['bydlena'], 'ppasf': ['bydleny'], 'spasn': ['bydleno'], 'ptram': ['bydle', 'bydleje'], 'ptraf': ['bydlíc', 'bydlejíc'], 'ptrap': ['bydlíce', 'bydlejíce'], 'mtra': ['skrýt']}\n",
      "----------------\n",
      "{'present': {'0': ['bydlím'], '1': ['bydlíš'], '2': ['bydlí'], '3': ['bydlíme'], '4': ['bydlíte'], '5': ['bydlí', 'bydlejí']}, 'imperative': {'s': ['bydli'], 'p': ['bydlete'], '1pp': ['bydleme']}, 'participle': {'active': {'sm': ['bydlel'], 'sf': ['bydlela'], 'sn': ['bydlelo'], 'pm': ['bydleli'], 'pf': ['bydlely'], 'pn': ['bydlela']}, 'passive': {'sm': ['bydlen'], 'sf': ['bydlena'], 'sn': ['bydleno'], 'pm': ['bydleni'], 'pf': ['bydleny'], 'pn': ['bydlena']}}, 'transgressive': {'m': ['bydle', 'bydleje'], 'f': ['bydlíc', 'bydlejíc'], 'p': ['bydlíce', 'bydlejíce']}}\n"
     ]
    }
   ],
   "source": [
    "word = 'bydlet'\n",
    "\n",
    "wk = get_wikitext(word, 'cs')\n",
    "\n",
    "for section in wk.sections:\n",
    "    if 'časování' in section.title:\n",
    "        for template in section.templates:\n",
    "            if 'Sloveso (cs)' in template.name:\n",
    "                t = dictify_template(template)\n",
    "                print(t)\n",
    "                \n",
    "output = {\n",
    "        \"present\":\n",
    "                {\"0\": t['spre1'],\n",
    "                \"1\": t['spre2'],\n",
    "                \"2\": t['spre3'],\n",
    "                \"3\": t['ppre1'],\n",
    "                \"4\": t['ppre2'],\n",
    "                \"5\": t['ppre3']},\n",
    "        \"imperative\":{\n",
    "            \"s\": t['simp2'],\n",
    "            \"p\": t['pimp2'],\n",
    "            \"1pp\": t['pimp1'],\n",
    "        },\n",
    "        \"participle\":{\n",
    "            \"active\":{\n",
    "                \"sm\": t['sactm'],\n",
    "                \"sf\": t['sactf'],\n",
    "                \"sn\": t['sactn'],\n",
    "                \"pm\": t['pactm'],\n",
    "                \"pf\": t['pactf'],\n",
    "                \"pn\": t['sactf'],\n",
    "            }}\n",
    "}\n",
    "if 'spasm' in t:\n",
    "    output['participle'][\"passive\"] = {\n",
    "                \"sm\": t['spasm'],\n",
    "                \"sf\": t['spasf'],\n",
    "                \"sn\": t['spasn'],\n",
    "                \"pm\": t['ppasm'],\n",
    "                \"pf\": t['ppasf'],\n",
    "                \"pn\": t['spasf'],\n",
    "            }\n",
    "if 'ptram' in t:\n",
    "    output['transgressive'] = {\n",
    "            \"m\": t['ptram'],\n",
    "            \"f\": t['ptraf'],\n",
    "            \"p\": t['ptrap'],\n",
    "        }\n",
    "\n",
    "print('----------------')\n",
    "print(output)"
   ]
  },
  {
   "cell_type": "code",
   "execution_count": null,
   "metadata": {
    "collapsed": true
   },
   "outputs": [],
   "source": []
  }
 ],
 "metadata": {
  "kernelspec": {
   "display_name": "czech",
   "language": "python",
   "name": "czech"
  },
  "language_info": {
   "codemirror_mode": {
    "name": "ipython",
    "version": 3
   },
   "file_extension": ".py",
   "mimetype": "text/x-python",
   "name": "python",
   "nbconvert_exporter": "python",
   "pygments_lexer": "ipython3",
   "version": "3.6.3"
  }
 },
 "nbformat": 4,
 "nbformat_minor": 2
}
