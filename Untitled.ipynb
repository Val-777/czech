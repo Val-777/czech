{
 "cells": [
  {
   "cell_type": "code",
   "execution_count": 8,
   "metadata": {},
   "outputs": [],
   "source": [
    "import os, django\n",
    "os.environ.setdefault(\"DJANGO_SETTINGS_MODULE\", \"czech.settings\")\n",
    "django.setup()\n",
    "\n",
    "from quiz.utils import get_wikitext, dictify_template\n",
    "import wikitextparser as wtp\n",
    "from urllib.request import urlopen\n",
    "import urllib\n",
    "import json\n",
    "from django.shortcuts import get_object_or_404"
   ]
  },
  {
   "cell_type": "code",
   "execution_count": 9,
   "metadata": {},
   "outputs": [],
   "source": [
    "from quiz.models import Noun, Word"
   ]
  },
  {
   "cell_type": "code",
   "execution_count": 10,
   "metadata": {},
   "outputs": [
    {
     "data": {
      "text/plain": [
       "{'genus': 'm',\n",
       " 'pacc': ['Herren'],\n",
       " 'pdat': ['Herren'],\n",
       " 'pgen': ['Herren'],\n",
       " 'pnom': ['Herren'],\n",
       " 'sacc': ['Herren', 'Herrn'],\n",
       " 'sdat': ['Herren', 'Herrn'],\n",
       " 'sgen': ['Herren', 'Herrn'],\n",
       " 'snom': ['Herr']}"
      ]
     },
     "execution_count": 10,
     "metadata": {},
     "output_type": "execute_result"
    }
   ],
   "source": [
    "Noun.get_german_word_json('Herr')"
   ]
  },
  {
   "cell_type": "code",
   "execution_count": 11,
   "metadata": {},
   "outputs": [
    {
     "data": {
      "text/plain": [
       "{'genus': 'm',\n",
       " 'pacc': ['Studenten'],\n",
       " 'pdat': ['Studenten'],\n",
       " 'pgen': ['Studenten'],\n",
       " 'pnom': ['Studenten'],\n",
       " 'sacc': ['Studenten'],\n",
       " 'sdat': ['Studenten'],\n",
       " 'sgen': ['Studenten'],\n",
       " 'snom': ['Student']}"
      ]
     },
     "execution_count": 11,
     "metadata": {},
     "output_type": "execute_result"
    }
   ],
   "source": [
    "Noun.get_german_word_json('Student')"
   ]
  },
  {
   "cell_type": "code",
   "execution_count": 12,
   "metadata": {},
   "outputs": [
    {
     "data": {
      "text/plain": [
       "{'animate': True,\n",
       " 'czech': 'student',\n",
       " 'dec': {'pacc': ['studenty'],\n",
       "  'pdat': ['studentům'],\n",
       "  'pgen': ['studentů'],\n",
       "  'pins': ['studenty'],\n",
       "  'ploc': ['studentech'],\n",
       "  'pnom': ['studenti'],\n",
       "  'pvoc': ['studenti'],\n",
       "  'sacc': ['studenta'],\n",
       "  'sdat': ['studentu', 'studentovi'],\n",
       "  'sgen': ['studenta'],\n",
       "  'sins': ['studentem'],\n",
       "  'sloc': ['studentu', 'studentovi'],\n",
       "  'snom': ['student'],\n",
       "  'svoc': ['studente']},\n",
       " 'gender_cz': 'M',\n",
       " 'gender_de': 'M',\n",
       " 'german': 'Student',\n",
       " 'type': 'Noun'}"
      ]
     },
     "execution_count": 12,
     "metadata": {},
     "output_type": "execute_result"
    }
   ],
   "source": [
    "Word.get_czech_word_json('student')"
   ]
  },
  {
   "cell_type": "code",
   "execution_count": 13,
   "metadata": {},
   "outputs": [],
   "source": [
    "x = get_object_or_404(Noun, czech='student')"
   ]
  },
  {
   "cell_type": "code",
   "execution_count": 14,
   "metadata": {},
   "outputs": [
    {
     "data": {
      "text/plain": [
       "<Noun: student>"
      ]
     },
     "execution_count": 14,
     "metadata": {},
     "output_type": "execute_result"
    }
   ],
   "source": [
    "x"
   ]
  },
  {
   "cell_type": "code",
   "execution_count": 15,
   "metadata": {},
   "outputs": [
    {
     "data": {
      "text/plain": [
       "{'genus': 'm',\n",
       " 'pacc': ['Studenten'],\n",
       " 'pdat': ['Studenten'],\n",
       " 'pgen': ['Studenten'],\n",
       " 'pnom': ['Studenten'],\n",
       " 'sacc': ['Studenten'],\n",
       " 'sdat': ['Studenten'],\n",
       " 'sgen': ['Studenten'],\n",
       " 'snom': ['Student']}"
      ]
     },
     "execution_count": 15,
     "metadata": {},
     "output_type": "execute_result"
    }
   ],
   "source": [
    "x.de"
   ]
  },
  {
   "cell_type": "code",
   "execution_count": 18,
   "metadata": {},
   "outputs": [
    {
     "data": {
      "text/plain": [
       "'Student'"
      ]
     },
     "execution_count": 18,
     "metadata": {},
     "output_type": "execute_result"
    }
   ],
   "source": [
    "x.de['snom'][0]"
   ]
  },
  {
   "cell_type": "code",
   "execution_count": null,
   "metadata": {},
   "outputs": [],
   "source": []
  }
 ],
 "metadata": {
  "kernelspec": {
   "display_name": "czech",
   "language": "python",
   "name": "czech"
  },
  "language_info": {
   "codemirror_mode": {
    "name": "ipython",
    "version": 3
   },
   "file_extension": ".py",
   "mimetype": "text/x-python",
   "name": "python",
   "nbconvert_exporter": "python",
   "pygments_lexer": "ipython3",
   "version": "3.6.3"
  }
 },
 "nbformat": 4,
 "nbformat_minor": 2
}
