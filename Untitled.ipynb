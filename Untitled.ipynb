{
 "cells": [
  {
   "cell_type": "code",
   "execution_count": 5,
   "metadata": {},
   "outputs": [],
   "source": [
    "from quiz.utils import get_wikitext\n",
    "import wikitextparser as wtp\n",
    "from urllib.request import urlopen\n",
    "import urllib\n",
    "import json"
   ]
  },
  {
   "cell_type": "code",
   "execution_count": 7,
   "metadata": {},
   "outputs": [],
   "source": [
    "def get_wikitext(deutsch):\n",
    "    \"\"\"\n",
    "    Gets the wikitext for the passed in Czech word, which is then parsed with the wikitextparser,\n",
    "    which breaks it up into a list of Section objects\n",
    "    \"\"\"\n",
    "    deutsch = urllib.parse.quote(deutsch)\n",
    "    QUERY = (\"https://de.wiktionary.org/w/api.php?\"\n",
    "             \"action=parse&\"\n",
    "             \"format=json&\"\n",
    "             \"uselang=de&\"\n",
    "             \"page={}&\"\n",
    "             \"prop=wikitext&\"\n",
    "             \"utf8=1&\"\n",
    "             \"formatversion=1\").format(deutsch)\n",
    "    with urlopen(QUERY) as url:\n",
    "        http_info = url.info()\n",
    "        raw_data = url.read().decode(http_info.get_content_charset())\n",
    "\n",
    "    project_info = json.loads(raw_data)\n",
    "    result = {'headers': http_info.items(), 'body': project_info}\n",
    "\n",
    "    wikitext = result['body']['parse']['wikitext']['*']\n",
    "    return wtp.parse(wikitext)"
   ]
  },
  {
   "cell_type": "code",
   "execution_count": 8,
   "metadata": {},
   "outputs": [
    {
     "data": {
      "text/plain": [
       "WikiText(\"{{Wort der Woche|11|2007}}\\n== Herr ({{Sprache|Deutsch}}) ==\\n=== {{Wortart|Substantiv|Deutsch}}, {{m}} ===\\n\\n{{Deutsch Substantiv Übersicht\\n|Genus=m\\n|Nominativ Singular=Herr\\n|Nominativ Plural=Herren\\n|Genitiv Singular=Herren\\n|Genitiv Singular*=Herrn\\n|Genitiv Plural=Herren\\n|Dativ Singular=Herren\\n|Dativ Singular*=Herrn\\n|Dativ Plural=Herren\\n|Akkusativ Singular=Herren\\n|Akkusativ Singular*=Herrn\\n|Akkusativ Plural=Herren\\n}}\\n\\n{{Alternative Schreibweisen}}\\n:{{Pl.}} [[Herr’n]] {{Lautschrift|hɛɐ̯n}}\\n\\n{{Worttrennung}}\\n:Herr, {{Pl.}} Her·ren\\n\\n{{Aussprache}}\\n:{{IPA}} {{Lautschrift|hɛʁ}}\\n:{{Hörbeispiele}} {{Audio|De-Herr.ogg}}, {{Audio|De-at-Herr.ogg|Herr|spr=at}}\\n:{{Reime}} {{Reim|ɛʁ|Deutsch}}\\n\\n{{Bedeutungen}}\\n:[1] [[höflich]]e [[Bezeichnung]] für einen [[Mann]]\\n:[2] [[Anrede]] für einen Mann\\n:[3] jemand, der eine [[fast]] [[vollständig]]e [[Kontrolle]] über [[Ding]]e oder [[Person]]en hat (früher insbesondere ein Adliger)\\n:[4] ''mit bestimmtem Artikel:'' andere [[Bezeichnung]] für den jüdisch-christlichen [[Gott]], im Neuen Testament oft auch für Jesus\\n\\n{{Abkürzungen}}\\n:[2] [[Hr.]]\\n\\n{{Herkunft}}\\n:seit dem 8. Jahrhundert bezeugt; [[mittelhochdeutsch]] ''hēr'', [[Anredeform]] von ''hērre'' ‚Gebieter, Schutzheiliger, vornehmer Vasall, Adliger‘, zu [[althochdeutsch]] ''hērro'' ‚Herrscher, Lehnherr‘, das von dem substantivierten [[Komparativ]] ''hēríro'', ''hērōro'' ‚der Ältere, der Würdigere; älter, ehrwürdiger‘ verkürzt ist, dieses gehört zum [[Positiv]] ''hēr'' ‚alt, ehrwürdig‘, woraus ''[[hehr]]''; siehe dort. Es wird vermutet, dass es sich bei der althochdeutschen Anrede wahrscheinlich um eine [[Lehnbedeutung]] von [[spätlateinisch]] ''{{Ü|la|senior}}'' ‚Höhergestellter, Ranghöchster‘ handelt, welches eigentlich der Komparativ von ''{{Ü|la|senex}}'' ‚alt‘ ist.<ref>{{Lit-Duden: Universalwörterbuch|A=6}}, Seite 797.</ref><ref>{{Lit-Pfeifer: Etymologisches Wörterbuch|A=8}}</ref> Ebenso [[niederdeutsch]] ''{{Ü|nds|Heer}}'', [[niederländisch]] ''{{Ü|nl|heer}}'', west[[friesisch]] ''{{Ü|fy|hear}}''.\\n\\n{{Synonyme}}\\n:[1] [[Mann]]\\n:[3] [[Boss]], [[Herrscher]], [[König]], [[Meister]], [[Vorgesetzter]], [[Despot]]\\n:[4] ''ohne Plural:'' [[Allmächtiger]], GOtt/[[Gott]], HERR/HErr, [[Herrgott]], [[JHWH]]/[[Jahwe]]/[[Jehova]], [[Vater]], [[Schöpfer]]\\n\\n{{Sinnverwandte Wörter}}\\n:[2] [[Mister]], [[Sir]]\\n\\n{{Gegenwörter}}\\n:[1] [[Dame]], [[Frau]]\\n:[2] [[Frau]], [[Fräulein]], [[Madame]]\\n:[3] [[Diener]], [[Knecht]], [[Sklave]], [[Untergebener]]\\n\\n{{Weibliche Wortformen}}\\n:[[Herrin]]\\n\\n{{Verkleinerungsformen}}\\n:[[Herrchen]], [[Herrlein]]\\n\\n{{Unterbegriffe}}\\n:[3] [[Bauherr]], [[Calenderherr]], [[Dienstherr]], [[Feldherr]], [[Gutsherr]], [[Hausherr]], [[Kammerherr]], [[Kolonialherr]], [[Kriegsherr]], [[Landesherr]], [[Ratsherr]], [[Schirmherr]], [[Schlossherr]], [[Schutzherr]]\\n\\n{{Beispiele}}\\n:[1] Dieser ''Herr'' hier wollte mit Ihnen reden.\\n:[1] Meine Damen und ''Herren''…\\n:[2] Wie geht es Ihnen heute, ''Herr'' Müller?\\n:[3] Ich werde diesen Auftrag übernehmen, ''Herr.''\\n:[3] Er ist ''Herr'' über seine Daten.\\n:[3] Der ''Herr'' der sieben Weltmeere.\\n:[4] Mein ''Herr'' und mein Gott…\\n:[4] Gehet hin im Frieden des ''Herrn!''\\n:[4] „Sprich: O ihr Leute des Buches, ihr entbehrt jeder Grundlage, bis ihr die Thora und das Evangelium und das, was zu euch von eurem ''Herrn'' herabgesandt wurde, einhaltet.“<ref>{{Literatur | Autor=Adel Theodor Khoury | Titel=Der Koran | TitelErg=erschlossen und kommentiert von … | Verlag=Patmos Verlag | Ort=Düsseldorf | Jahr=2005 | ISBN=978-3491724856 | Seiten=14| Kommentar=Sure 5, Verse 68 }}</ref>\\n\\n{{Redewendungen}}\\n:[[gnädiger Herr]]\\n:[[Herr im Himmel]]!\\n:[[meine Herr’n]]!\\n:[[mein Herr]]\\n:[[mein lieber Herr Gesangverein]]!\\n\\n{{Sprichwörter}}\\n:[[wie der Herr, so’s Gescherr]]\\n\\n{{Charakteristische Wortkombinationen}}\\n:[3] ''Herr'' und [[Meister]]\\n:[4] ''Herr'' im [[Himmel]]\\n\\n{{Wortbildungen}}\\n:''[[Adjektiv]]e:'' [[herrenhaft]], [[herrenlos]], [[herrenmäßig]], [[herrisch]], [[herrlich]]\\n:''[[Name]]n:'' [[Herrenchiemsee]], [[Herrenberg]], [[Herrengraben]], [[Herrenhof]], [[Herrnhut]], [[Herreninsel]], [[Herrenschwamm]], [[Herrenpilz]]\\n:''[[Partikel]]:'' [[herrje]], [[herrjemine]]\\n:''[[Substantiv]]e:'' [[Herrenabend]], [[Herrenabfahrt]], [[Herrenabteilung]], [[Herrenanzug]], [[Herrenarmbanduhr]], [[Herrenartikel]], [[Herrenausstatter]], [[Herrenbad]], [[Herrenbank]], [[Herrenbegleitung]], [[Herrenbekanntschaft]], [[Herrenbekleidung]], [[Herrenbereich]], [[Herrenbesuch]], [[Herrenboutique]], [[Herrenbrot]], [[Herrenchor]], [[Herrencreme]], [[Herrendienst]], [[Herrendoppel]], [[Herrenduft]], [[Herreneinzel]], [[Herrenessen]], [[Herrenfach]], [[Herrenfahrer]], [[Herrenfahrrad]], [[Herrenfasnacht]]/[[Herrenfastnacht]], [[Herrenfest]], [[Herrenfinale]], [[Herrenfinken]], [[Herrenflorett]], [[Herrenfriseur]], [[Herrenfrisur]], [[Herrengarderobe]], [[Herrengarnitur]], [[Herrengasse]], [[Herrengedeck]], [[Herrengesellschaft]], [[Herrengymnastik]], [[Herrenhaarschnitt]], [[Herrenhandschuh]], [[Herrenhandtasche]], [[Herrenhaus]], [[Herrenhemd]], [[Herrenhof]], [[Herrenhose]], [[Herrenhut]], [[Herrenjacke]], [[Herrenjagd]], [[Herrenjahr]], [[Herrenjahre]], [[Herrenklasse]], [[Herrenkleid]], [[Herrenkleidung]], [[Herrenklo]], [[Herrenklub]], [[Herrenkollektion]], [[Herrenkonfektion]], [[Herrenkonkurrenz]], [[Herrenkosmetik]], [[Herrenleben]], [[Herrenloge]], [[Herrenmagazin]], [[Herrenmangel]], [[Herrenmannschaft]], [[Herrenmantel]], [[Herrenmeister]], [[Herrenmensch]], [[Herrenmenschentum]], [[Herrenmode]], [[Herrenmoral]], [[Herrenoberbekleidung]], [[Herrenparfüm]], [[Herrenpartie]], [[Herrenpullover]], [[Herrenrad]], [[Herrenrahmen]], [[Herrenrasse]], [[Herrenrecht]], [[Herrenreiter]], [[Herrenriege]], [[Herrenrunde]], [[Herrensakko]], [[Herrensalon]], [[Herrensandale]], [[Herrensattel]], [[Herrensauna]], [[Herrenschicht]], [[Herrenschirm]], [[Herrenschneider]]/[[Herrenschneiderin]], [[Herrenschneiderei]], [[Herrenschnitt]], [[Herrenschlüpfer]], [[Herrenschokolade]], [[Herrenschuh]], [[Herrensitz]], [[Herrensitzung]], [[Herrenslip]], [[Herrensocken]], [[Herrenspende]], [[Herrenstand]], [[Herrenstrumpf]], [[Herrentag]], [[Herrentasche]], [[Herrenteam]], [[Herrentennis]], [[Herrentier]], [[Herrentoilette]], [[Herrentorte]], [[Herrentrainer]], [[Herrentraining]], [[Herrentum]], [[Herrenturnier]], [[Herrenuhr]], [[Herrenunterhose]],  [[Herrenunterwäsche]], [[Herrenvelo]], [[Herrenvolk]], [[Herrenwäsche]], [[Herrenwein]], [[Herrenwelt]], [[Herrenweste]],  [[Herrenwinker]], [[Herrenwitz]], [[Herrenzimmer]], [[Herrenzirkel]]\\n:[[Herrgott]], [[Herrlichkeit]], [[Herrschaft]], [[Herrscher]]\\n:''[[Verb]]en:'' [[herrschen]]\\n\\n==== {{Übersetzungen}} ====\\n{{Ü-Tabelle|Ü-links=\\n*{{af}}: [2] {{Ü|af|meneer}}; [3] {{Ü|af|heer}}\\n*{{ar}}: [2] {{Üt|ar|سيد|seyd}} {{m}}\\n*{{hy}}: [2] {{Üt|hy|պարոն|paron}}\\n*{{bs}}: [2, 3] {{Ü|bs|gospodin}}\\n*{{bg}}: [2] {{Üt|bg|господин|gospodin}}; [3] {{Üt|bg|господар|gospodar}}; [4] {{Üt|bg|Господ|Gospod}}\\n*{{zh}}: [1, 2] {{Üt|zh|先生|xiānsheng}}\\n*{{en}}: [1] {{Ü|en|gentleman}}; [2] {{Ü|en|mister}}, {{Ü|en|sir}}; [3] {{Ü|en|master}}, {{Ü|en|lord}}; [4] {{Ü|en|Lord}}\\n*{{eo}}: [2] {{Ü|eo|sinjoro}}\\n*{{fr}}: [1,2] {{Ü|fr|monsieur}} {{m}}; [2] {{Ü|fr|sieur}} {{m}}; [3] {{Ü|fr|maître}} {{m}}, {{Ü|fr|seigneur}} {{m}}; [4] {{Ü|fr|Seigneur}} {{m}}\\n*{{ka}}: [2] {{Üt|ka|ბატონი|batoni}}\\n*{{el}}: [2] {{Üt|el|κύριος|kýrios}}\\n*{{it}}: [1, 4] {{Ü|it|signore}} {{m}}; [2]{{Ü|it|signor}} {{m}}\\n*{{ja}}: [2] {{Üt|ja|氏|し, shi}}; [3] {{Üt|ja|主|ぬし, nushi}}\\n*{{ca}}: [1, 2] {{Ü|ca|senyor}} {{m}}; [3] {{Ü|ca|amo}} {{m}}, {{Ü|ca|propietari}} {{m}}, {{Ü|ca|sobirà}} {{m}}; [4] el {{Ü|ca|Senyor}} {{m}}\\n*{{swb}}: [4] {{Ü|swb|mfomi}}\\n*{{ko}}: [2] {{Üt|ko|씨|ssi}}\\n*{{hr}}: [2, 3] {{Ü|hr|gospodin}}\\n*{{lv}}: [2] {{Ü|lv|kungs}}\\n|Ü-rechts=\\n*{{nl}}: [1] {{Ü|nl|heer}}; [2] {{Ü|nl|meneer}}, {{Ü|nl|mijnheer}}; [3] {{Ü|nl|heer}}, {{Ü|nl|meester}}; [4] {{Ü|nl|Heer}}\\n*{{no}}:\\n**{{nb}}: [2] {{Ü|nb|Herr}} (''als Anrede''); [3] {{Ü|nb|herre}} {{m}}\\n**{{nn}}:\\n*{{om}}: [2] {{Ü|om|obbo}}\\n*{{pl}}: [1, 3] {{Ü|pl|pan}} {{m}}; [4] {{Ü|pl|Pan}} {{m}}\\n*{{pt}}: [1, 3] {{Ü|pt|senhor}}; [4] {{Ü|pt|Senhor}}\\n*{{ro}}: [1, 2] {{Ü|ro|domn}}; [3] {{Ü|ro|stăpân}}; [4] {{Ü|ro|Domn}}\\n*{{ru}}: [2, 3] {{Üt|ru|господин|gospodin}}; [4] {{Üt|ru|Бог|Bog}}, {{Üt|ru|Господь|Gospod'}}\\n*{{sv}}: [1, 2] {{Ü|sv|herr}}; [3] {{Ü|sv|herre}} {{u}}; [4] {{Ü|sv|Herre}} {{u}}\\n*{{sr}}: [2, 3] {{Üt|sr|господин|gospodin}}\\n*{{sl}}: [1–4] {{Ü|sl|gospod}} {{m}}\\n*{{es}}: [2] {{Ü|es|señor}}\\n*{{cs}}: [1, 3] {{Ü|cs|pán}} {{m}}; [2] {{Ü|cs|pan}} {{m}}; [4] {{Ü|cs|Pán}} {{m}}\\n*{{tr}}: [1] {{Ü|tr|beyefendi}}; [1–3] {{Ü|tr|bey}}; [2] {{Ü|tr|bay}}\\n*{{uk}}: [2] {{Üt|uk|пан|pan}}\\n*{{hu}}: [2] {{Ü|hu|úr}}\\n}}\\n\\n{{Referenzen}}\\n:[2–4] {{Wikipedia}}\\n:[2–4] {{Ref-Grimm}}\\n:[1–4] {{Ref-DWDS}}\\n:[1–4] {{Ref-Canoo}}\\n:[*] {{Ref-UniLeipzig}}\\n:[1–4] {{Ref-FreeDictionary}}\\n:[1–4] {{Ref-Duden}}\\n:[1–4] {{Ref-Pons}}\\n:[1–4] {{Ref-wissen.de|Wörterbuch}}\\n:[1, 3] {{Ref-wissen.de|Lexikon}}\\n:[*] {{Ref-MyDict}}\\n:[2, 3] {{Ref-Adelung}}\\n:[3, 4] {{Ref-Goethe}}\\n:[1–4] {{Ref-Meyers}}\\n:[3] {{Ref-Pierer1857}}\\n:[*] {{Ref-OWID|elexiko|193628}}\\n\\n{{Quellen}}\\n\\n=== {{Wortart|Substantiv|Deutsch}}, {{mf}}, {{Wortart|Nachname|Deutsch}} ===\\n\\n{{Deutsch Nachname Übersicht\\n}}\\n\\n{{Worttrennung}}\\n:Herr, {{Pl.}} Herrs\\n\\n{{Aussprache}}\\n:{{IPA}} {{Lautschrift|hɛʁ}}\\n:{{Hörbeispiele}} {{Audio|}}\\n\\n{{Bedeutungen}}\\n:[1] [[Familienname]]\\n\\n{{Bekannte Namensträger}}\\n:[1] [[w:Alexander Herr|Alexander Herr]] (ehemaliger Skispringer), [[w:Julia Herr|Julia Herr]] (österreichische Politikerin), [[w:Traugott Herr|Traugott Herr]] (General der Wehrmacht)\\n\\n{{Beispiele}}\\n:[1] Herr ''Herr'' wird sein Haus verkaufen.\\n:[1] Frau ''Herr'' hat sich als Freiwillige gemeldet.\\n:[1] Gestern kamen die ''Herrs'' aus dem Afrikaurlaub wieder.\\n\\n==== {{Übersetzungen}} ====\\n{{Ü-Tabelle|Ü-links=\\n*{{en}}: [1] {{Ü|en|}}\\n*{{fr}}: [1] {{Ü|fr|}}\\n|Ü-rechts=\\n*{{it}}: [1] {{Ü|it|}}\\n*{{es}}: [1] {{Ü|es|}}\\n}}\\n\\n{{Referenzen}}\\n:[1] {{Wikipedia|Herr (Begriffsklärung)}}\\n:[1] {{Ref-Nachname|Herr}}\\n:[*] {{Ref-UniLeipzig|Herr}}\\n\\n{{Navigationsleiste Anthroponyme}}\\n\\n{{Ähnlichkeiten}}\\n:[[Heer]], [[hehr]], [[her]]\")"
      ]
     },
     "execution_count": 8,
     "metadata": {},
     "output_type": "execute_result"
    }
   ],
   "source": [
    "get_wikitext('Herr')"
   ]
  },
  {
   "cell_type": "code",
   "execution_count": null,
   "metadata": {},
   "outputs": [],
   "source": []
  }
 ],
 "metadata": {
  "kernelspec": {
   "display_name": "czech",
   "language": "python",
   "name": "czech"
  },
  "language_info": {
   "codemirror_mode": {
    "name": "ipython",
    "version": 3
   },
   "file_extension": ".py",
   "mimetype": "text/x-python",
   "name": "python",
   "nbconvert_exporter": "python",
   "pygments_lexer": "ipython3",
   "version": "3.6.3"
  }
 },
 "nbformat": 4,
 "nbformat_minor": 2
}
