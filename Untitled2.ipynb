{
 "cells": [
  {
   "cell_type": "code",
   "execution_count": 1,
   "metadata": {},
   "outputs": [],
   "source": [
    "import os, django\n",
    "os.environ.setdefault(\"DJANGO_SETTINGS_MODULE\", \"czech.settings\")\n",
    "django.setup()\n",
    "from quiz.models import Word, Noun, Verb\n",
    "from quiz.utils import dictify_template, get_wikitext\n",
    "from bs4 import BeautifulSoup"
   ]
  },
  {
   "cell_type": "code",
   "execution_count": 3,
   "metadata": {},
   "outputs": [
    {
     "data": {
      "text/plain": [
       "{'cz': {'mtra': ['skrýt'],\n",
       "  'pactf': ['bydlely'],\n",
       "  'pactm': ['bydleli'],\n",
       "  'pimp1': ['bydleme'],\n",
       "  'pimp2': ['bydlete'],\n",
       "  'ppasf': ['bydleny'],\n",
       "  'ppasm': ['bydleni'],\n",
       "  'ppre1': ['bydlíme'],\n",
       "  'ppre2': ['bydlíte'],\n",
       "  'ppre3': ['bydlí', 'bydlejí'],\n",
       "  'ptraf': ['bydlíc', 'bydlejíc'],\n",
       "  'ptram': ['bydle', 'bydleje'],\n",
       "  'ptrap': ['bydlíce', 'bydlejíce'],\n",
       "  'sactf': ['bydlela'],\n",
       "  'sactm': ['bydlel'],\n",
       "  'sactn': ['bydlelo'],\n",
       "  'simp2': ['bydli'],\n",
       "  'spasf': ['bydlena'],\n",
       "  'spasm': ['bydlen'],\n",
       "  'spasn': ['bydleno'],\n",
       "  'spre1': ['bydlím'],\n",
       "  'spre2': ['bydlíš'],\n",
       "  'spre3': ['bydlí']},\n",
       " 'czech': 'bydlet',\n",
       " 'de': {'aux': ['haben'],\n",
       "  'ppre1': ['wohnen'],\n",
       "  'ppre2': ['wohnt'],\n",
       "  'ppre3': ['wohnen'],\n",
       "  'spre1': ['wohne'],\n",
       "  'spre2': ['wohnst'],\n",
       "  'spre3': ['wohnt']},\n",
       " 'german': 'wohnen'}"
      ]
     },
     "execution_count": 3,
     "metadata": {},
     "output_type": "execute_result"
    }
   ],
   "source": [
    "pre = Verb.make_czech_verb_json(Word.get_czech_word_type_and_wiki('bydlet'))\n",
    "pre['de']=Verb.make_german_verb_json(pre['german'])\n",
    "pre"
   ]
  },
  {
   "cell_type": "code",
   "execution_count": 8,
   "metadata": {},
   "outputs": [],
   "source": [
    "def standardize_german_verb_json(dic_temp):\n",
    "    \"\"\"\n",
    "    Standardize German verb after dictifying\n",
    "    \"\"\"\n",
    "    print(dic_temp)\n",
    "    output = {}\n",
    "    output['spre1'] = dic_temp['Präsens_ich']\n",
    "    if 'Präsens_ich*' in dic_temp:\n",
    "        output['spre1'].append(dic_temp['Präsens_ich*'][0]) \n",
    "    output['spre2'] = dic_temp['Präsens_du']\n",
    "    if 'Präsens_du*' in dic_temp:\n",
    "        output['spre2'].append(dic_temp['Präsens_du*'][0])\n",
    "    output['spre3'] = dic_temp['Präsens_er, sie, es']\n",
    "    if 'Präsens_er, sie, es*' in dic_temp:\n",
    "        output['spre3'].append(dic_temp['Präsens_er, sie, es*'][0])\n",
    "    output['ppre1'] = [dic_temp['german'],]\n",
    "    output['ppre2'] = output['spre3']\n",
    "    output['ppre3'] = [dic_temp['german'],]\n",
    "    output['aux'] = dic_temp['Hilfsverb']\n",
    "    \n",
    "    return output"
   ]
  },
  {
   "cell_type": "code",
   "execution_count": 9,
   "metadata": {},
   "outputs": [
    {
     "name": "stdout",
     "output_type": "stream",
     "text": [
      "{'Präsens_ich': ['wohne'], 'Präsens_du': ['wohnst'], 'Präsens_er, sie, es': ['wohnt'], 'Präteritum_ich': ['wohnte'], 'Partizip II': ['gewohnt'], 'Konjunktiv II_ich': ['wohnte'], 'Imperativ Singular': ['wohne'], 'Imperativ Singular*': ['wohn'], 'Imperativ Plural': ['wohnt'], 'Hilfsverb': ['haben'], 'Bild': ['385 PEMA.jpg'], '1': ['210px'], '2': ['1'], '3': [\"Menschen ''wohnen'' oft sehr unterschiedlich\"], 'german': 'wohnen'}\n",
      "{'spre1': ['wohne'], 'spre2': ['wohnst'], 'spre3': ['wohnt'], 'ppre1': ['wohnen'], 'ppre2': ['wohnt'], 'ppre3': ['wohnen'], 'aux': ['haben']}\n"
     ]
    }
   ],
   "source": [
    "wk = get_wikitext('wohnen', 'de')\n",
    "for section in wk.sections:\n",
    "    if 'Verb' in section.title:\n",
    "        for template in section.templates:\n",
    "            if 'Verb Übersicht' in template.name:\n",
    "                temp = dictify_template(template)\n",
    "                temp['german'] = 'wohnen'\n",
    "                print(standardize_german_verb_json(temp))"
   ]
  },
  {
   "cell_type": "code",
   "execution_count": null,
   "metadata": {},
   "outputs": [],
   "source": []
  }
 ],
 "metadata": {
  "kernelspec": {
   "display_name": "czech",
   "language": "python",
   "name": "czech"
  },
  "language_info": {
   "codemirror_mode": {
    "name": "ipython",
    "version": 3
   },
   "file_extension": ".py",
   "mimetype": "text/x-python",
   "name": "python",
   "nbconvert_exporter": "python",
   "pygments_lexer": "ipython3",
   "version": "3.6.3"
  }
 },
 "nbformat": 4,
 "nbformat_minor": 2
}
