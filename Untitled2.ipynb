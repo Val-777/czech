{
 "cells": [
  {
   "cell_type": "code",
   "execution_count": 3,
   "metadata": {},
   "outputs": [],
   "source": [
    "import os, django\n",
    "os.environ.setdefault(\"DJANGO_SETTINGS_MODULE\", \"czech.settings\")\n",
    "django.setup()\n",
    "from quiz.models import Word, Noun\n",
    "from quiz.utils import dictify_template, get_wikitext"
   ]
  },
  {
   "cell_type": "code",
   "execution_count": 5,
   "metadata": {},
   "outputs": [
    {
     "data": {
      "text/plain": [
       "{'animate': False,\n",
       " 'cz': {'genus': 'm',\n",
       "  'pacc': ['hrady'],\n",
       "  'pdat': ['hradům'],\n",
       "  'pgen': ['hradů'],\n",
       "  'pins': ['hrady'],\n",
       "  'ploc': ['hradech'],\n",
       "  'pnom': ['hrady'],\n",
       "  'pvoc': ['hrady'],\n",
       "  'sacc': ['hrad'],\n",
       "  'sdat': ['hradu'],\n",
       "  'sgen': ['hradu'],\n",
       "  'sins': ['hradem'],\n",
       "  'sloc': ['hradě', 'hradu'],\n",
       "  'snom': ['hrad'],\n",
       "  'svoc': ['hrade']},\n",
       " 'czech': 'hrad',\n",
       " 'de': {'genus': 'f',\n",
       "  'pacc': ['Burgen'],\n",
       "  'pdat': ['Burgen'],\n",
       "  'pgen': ['Burgen'],\n",
       "  'pnom': ['Burgen'],\n",
       "  'sacc': ['Burg'],\n",
       "  'sdat': ['Burg'],\n",
       "  'sgen': ['Burg'],\n",
       "  'snom': ['Burg']},\n",
       " 'german': 'Burg'}"
      ]
     },
     "execution_count": 5,
     "metadata": {},
     "output_type": "execute_result"
    }
   ],
   "source": [
    "word = Word.get_czech_word_type_and_wiki('hrad')\n",
    "word_json = Noun.make_czech_noun_json(word)\n",
    "word_json['de'] = Noun.make_german_word_json(word_json['german'])\n",
    "word_json"
   ]
  },
  {
   "cell_type": "code",
   "execution_count": null,
   "metadata": {},
   "outputs": [],
   "source": []
  }
 ],
 "metadata": {
  "kernelspec": {
   "display_name": "czech",
   "language": "python",
   "name": "czech"
  },
  "language_info": {
   "codemirror_mode": {
    "name": "ipython",
    "version": 3
   },
   "file_extension": ".py",
   "mimetype": "text/x-python",
   "name": "python",
   "nbconvert_exporter": "python",
   "pygments_lexer": "ipython3",
   "version": "3.6.3"
  }
 },
 "nbformat": 4,
 "nbformat_minor": 2
}
