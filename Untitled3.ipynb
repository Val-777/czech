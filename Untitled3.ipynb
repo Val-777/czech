{
 "cells": [
  {
   "cell_type": "code",
   "execution_count": 17,
   "metadata": {},
   "outputs": [],
   "source": [
    "import os, django\n",
    "os.environ.setdefault(\"DJANGO_SETTINGS_MODULE\", \"czech.settings\")\n",
    "django.setup()\n",
    "from django.shortcuts import get_object_or_404\n",
    "from quiz.models import Word, Noun, Verb, PersPronoun"
   ]
  },
  {
   "cell_type": "code",
   "execution_count": 76,
   "metadata": {},
   "outputs": [
    {
     "name": "stdout",
     "output_type": "stream",
     "text": [
      "du wohnst\n",
      "bydlíš\n"
     ]
    }
   ],
   "source": [
    "pron = PersPronoun.random(PersPronoun)\n",
    "role = pron.role[0] + 'pre' + pron.role[1]\n",
    "verb = get_object_or_404(Verb, czech='bydlet')\n",
    "print(pron.german + ' ' + verb.de[role][0])\n",
    "print(verb.cz[role][0])"
   ]
  },
  {
   "cell_type": "code",
   "execution_count": 31,
   "metadata": {},
   "outputs": [
    {
     "data": {
      "text/plain": [
       "'er wohnt'"
      ]
     },
     "execution_count": 31,
     "metadata": {},
     "output_type": "execute_result"
    }
   ],
   "source": []
  },
  {
   "cell_type": "code",
   "execution_count": null,
   "metadata": {},
   "outputs": [],
   "source": []
  }
 ],
 "metadata": {
  "kernelspec": {
   "display_name": "czech",
   "language": "python",
   "name": "czech"
  },
  "language_info": {
   "codemirror_mode": {
    "name": "ipython",
    "version": 3
   },
   "file_extension": ".py",
   "mimetype": "text/x-python",
   "name": "python",
   "nbconvert_exporter": "python",
   "pygments_lexer": "ipython3",
   "version": "3.6.3"
  }
 },
 "nbformat": 4,
 "nbformat_minor": 2
}
